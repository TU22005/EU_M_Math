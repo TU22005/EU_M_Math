{
  "cells": [
    {
      "cell_type": "markdown",
      "metadata": {
        "id": "view-in-github",
        "colab_type": "text"
      },
      "source": [
        "<a href=\"https://colab.research.google.com/github/TU22005/EU_M_Math/blob/main/TU22005_%E5%8A%A0%E8%97%A4%E9%87%8C%E5%A5%88_Deep_learning_material.ipynb\" target=\"_parent\"><img src=\"https://colab.research.google.com/assets/colab-badge.svg\" alt=\"Open In Colab\"/></a>"
      ]
    },
    {
      "cell_type": "markdown",
      "source": [
        "# DNN 教材"
      ],
      "metadata": {
        "id": "xaHVTzJ4G9Qb"
      }
    },
    {
      "cell_type": "markdown",
      "metadata": {
        "id": "JDFBVx0PvTy2"
      },
      "source": [
        "### Perceptron"
      ]
    },
    {
      "cell_type": "markdown",
      "metadata": {
        "id": "W6OWATZWvTy3"
      },
      "source": [
        "実際にPerceptronを使って、Irisの花の種類がIris Setosaかそれ以外かを判別するモデルを作る。\n",
        "\n",
        "__Dataset__ \n",
        "\n",
        "50個のIrisの花に関するレコードがある。がく片の幅、がく片の長さ、花弁の長さ、花弁の幅、Irisの花の種類が一つのレコードに含まれている。花の種類は、Iris Setosa、Iris VersicolourとIris Virginicaのどれか。\n",
        "\n",
        "__Goal__\n",
        "\n",
        "Irisのがく片と花弁の特徴を基に、IrisがIris Setosaかそれ以外かを判別するモデルを作る"
      ]
    },
    {
      "cell_type": "code",
      "execution_count": null,
      "metadata": {
        "id": "OVZXi93mvTy3",
        "colab": {
          "base_uri": "https://localhost:8080/"
        },
        "outputId": "491f468d-896a-4b45-dc0d-4ce6a11d8d50"
      },
      "outputs": [
        {
          "output_type": "stream",
          "name": "stdout",
          "text": [
            "Accuracy: 1.0\n"
          ]
        }
      ],
      "source": [
        "import numpy as np\n",
        "from sklearn.datasets import load_iris\n",
        "from sklearn.linear_model import Perceptron\n",
        "from sklearn.model_selection import train_test_split\n",
        "from sklearn.metrics import accuracy_score\n",
        "#データセットをロード\n",
        "iris = load_iris()\n",
        "#predictor と target に分ける\n",
        "X = iris.data\n",
        "#Iris Setosaが1の値をとり、それ以外は0\n",
        "Y = (iris.target==0).astype(int)\n",
        "#データセットのシャッフルをして、トレーニング用とテスト用のデータに分ける\n",
        "#モデルの評価をしっかりやりたい時は、cross validationを実行、さらにハイパーパラメータの最適化を行う\n",
        "train_X, test_X, train_Y, test_Y = train_test_split(X,Y,test_size = 0.3, random_state=42, shuffle=True)\n",
        "#トレーニング\n",
        "perc_clf = Perceptron()\n",
        "perc_clf.fit(train_X,train_Y)\n",
        "#テスト\n",
        "predictions = perc_clf.predict(test_X)\n",
        "#Accuracyを計算\n",
        "print(\"Accuracy: \" +str(accuracy_score(test_Y,predictions)))"
      ]
    },
    {
      "cell_type": "markdown",
      "metadata": {
        "id": "NUDPWu9CvTy5"
      },
      "source": [
        "### Multi Layer Perceptron using Scikit learn"
      ]
    },
    {
      "cell_type": "markdown",
      "metadata": {
        "id": "F6A-qF2rvTy5"
      },
      "source": [
        "Multi Layer Perceptronを使って、3つのIrisの種類を判別するモデルを作る\n",
        "\n",
        "__Dataset__\n",
        "\n",
        "前回と同じ\n",
        "\n",
        "__Goal__\n",
        "\n",
        "Irisのがく片と花弁の特徴を基に、Irisの花がIris Setosa、Iris Versicolour、それともIris Virginicaかを判別する。\n",
        "\n",
        "__Note__\n",
        "\n",
        "\n",
        "*   一つのクラスの判別に一つのoutput nodeが必要なので、3つのoutput nodeが必要。ただコードを書く際にこの指定は不要。\n",
        "\n",
        "*   一つ一つのアウトプットノードはそのクラスに当てはまる確率を計算して、出力。\n",
        "\n",
        "\n",
        "\n",
        "*   一つのレコードに対して一つのクラスが割り当てられているので、その三つのoutput node から出てくる確率の合計は１になる必要がある。\n",
        "\n"
      ]
    },
    {
      "cell_type": "code",
      "execution_count": null,
      "metadata": {
        "id": "fqXSwyakvTy5",
        "colab": {
          "base_uri": "https://localhost:8080/"
        },
        "outputId": "8271013e-675e-413a-e822-e0f0f2506b78"
      },
      "outputs": [
        {
          "output_type": "stream",
          "name": "stdout",
          "text": [
            "Accuracy: 0.9777777777777777\n"
          ]
        },
        {
          "output_type": "execute_result",
          "data": {
            "text/plain": [
              "1.0"
            ]
          },
          "metadata": {},
          "execution_count": 36
        }
      ],
      "source": [
        "from sklearn.datasets import load_iris\n",
        "from sklearn.neural_network import MLPClassifier\n",
        "from sklearn.model_selection import train_test_split\n",
        "from sklearn.metrics import accuracy_score\n",
        "#データセットをロード\n",
        "iris = load_iris()\n",
        "#predictor と　target に分ける\n",
        "X = iris.data\n",
        "Y = iris.target\n",
        "\n",
        "#データセットのシャッフルをして、トレーニング用とテスト用のデータに分ける\n",
        "#モデルの評価をしっかりやりたい時は、validationのデータセットを作るのが良い。\n",
        "train_X, test_X, train_Y, test_Y = train_test_split(X,Y,test_size = 0.3, random_state=42, shuffle=True)\n",
        "\n",
        "\n",
        "#二つのHidden Layer を追加、それぞれ10個のニューロンを持つ\n",
        "mlp_clsf = MLPClassifier((10,10),activation ='relu',learning_rate='constant',learning_rate_init=0.001, max_iter=1000, random_state=42)\n",
        "mlp_clsf.fit(train_X,train_Y)\n",
        "predictions = mlp_clsf.predict(test_X)\n",
        "print(\"Accuracy: \"+str(accuracy_score(test_Y,predictions)))\n",
        "\n",
        "mlp_clsf.predict_proba(test_X[0].reshape(1, -1)).sum()\n",
        "\n"
      ]
    },
    {
      "cell_type": "code",
      "execution_count": null,
      "metadata": {
        "id": "XfyE9k6SvTy6"
      },
      "outputs": [],
      "source": [
        "#確率の合計が１かを確認\n",
        "\n"
      ]
    },
    {
      "cell_type": "markdown",
      "metadata": {
        "id": "AQI7-M9KvTy6"
      },
      "source": [
        "### Activation Function "
      ]
    },
    {
      "cell_type": "markdown",
      "source": [
        "このMLPにSoftmaxがactivation functionとして使われている"
      ],
      "metadata": {
        "id": "k7_W11IYID2p"
      }
    },
    {
      "cell_type": "code",
      "execution_count": null,
      "metadata": {
        "id": "ffl1_qbxvTy7",
        "colab": {
          "base_uri": "https://localhost:8080/",
          "height": 35
        },
        "outputId": "20d98dd5-e356-49d1-ba53-b32efc4f7635"
      },
      "outputs": [
        {
          "output_type": "execute_result",
          "data": {
            "text/plain": [
              "'softmax'"
            ],
            "application/vnd.google.colaboratory.intrinsic+json": {
              "type": "string"
            }
          },
          "metadata": {},
          "execution_count": 37
        }
      ],
      "source": [
        "mlp_clsf.out_activation_"
      ]
    },
    {
      "cell_type": "markdown",
      "metadata": {
        "id": "xEC5-Px4vTy7"
      },
      "source": [
        "## MLP Regression "
      ]
    },
    {
      "cell_type": "markdown",
      "metadata": {
        "id": "ENGVw0vUvTy7"
      },
      "source": [
        "MLP Regressorを用いて、ボストンの住宅価格(単位は1000$)を予測するモデルを作る\n",
        "\n",
        "__Dataset__ \n",
        "\n",
        "1970年代のボストン郊外の住宅地に関するデータセット。ボストン郊外の異なるロケーションで13個の住宅に関する変数と住宅の価格の中央値が記録されている。506個のレコードが記録されている。\n",
        "\n",
        "__Goal__\n",
        "\n",
        "その中央値を13個の変数を基に予測する。\n",
        "\n",
        "\n",
        "　"
      ]
    },
    {
      "cell_type": "code",
      "execution_count": null,
      "metadata": {
        "scrolled": true,
        "id": "fC6bRC1PvTy7",
        "colab": {
          "base_uri": "https://localhost:8080/"
        },
        "outputId": "792dfc44-e0c9-42dd-ab91-47e999f1dc3c"
      },
      "outputs": [
        {
          "output_type": "stream",
          "name": "stderr",
          "text": [
            "/usr/local/lib/python3.7/dist-packages/sklearn/utils/deprecation.py:87: FutureWarning: Function load_boston is deprecated; `load_boston` is deprecated in 1.0 and will be removed in 1.2.\n",
            "\n",
            "    The Boston housing prices dataset has an ethical problem. You can refer to\n",
            "    the documentation of this function for further details.\n",
            "\n",
            "    The scikit-learn maintainers therefore strongly discourage the use of this\n",
            "    dataset unless the purpose of the code is to study and educate about\n",
            "    ethical issues in data science and machine learning.\n",
            "\n",
            "    In this special case, you can fetch the dataset from the original\n",
            "    source::\n",
            "\n",
            "        import pandas as pd\n",
            "        import numpy as np\n",
            "\n",
            "\n",
            "        data_url = \"http://lib.stat.cmu.edu/datasets/boston\"\n",
            "        raw_df = pd.read_csv(data_url, sep=\"\\s+\", skiprows=22, header=None)\n",
            "        data = np.hstack([raw_df.values[::2, :], raw_df.values[1::2, :2]])\n",
            "        target = raw_df.values[1::2, 2]\n",
            "\n",
            "    Alternative datasets include the California housing dataset (i.e.\n",
            "    :func:`~sklearn.datasets.fetch_california_housing`) and the Ames housing\n",
            "    dataset. You can load the datasets as follows::\n",
            "\n",
            "        from sklearn.datasets import fetch_california_housing\n",
            "        housing = fetch_california_housing()\n",
            "\n",
            "    for the California housing dataset and::\n",
            "\n",
            "        from sklearn.datasets import fetch_openml\n",
            "        housing = fetch_openml(name=\"house_prices\", as_frame=True)\n",
            "\n",
            "    for the Ames housing dataset.\n",
            "    \n",
            "  warnings.warn(msg, category=FutureWarning)\n"
          ]
        },
        {
          "output_type": "stream",
          "name": "stdout",
          "text": [
            "RSME: 4.699377521565086\n"
          ]
        }
      ],
      "source": [
        "from sklearn.datasets import load_boston\n",
        "from sklearn.neural_network import MLPRegressor\n",
        "from sklearn.model_selection import train_test_split\n",
        "from sklearn.metrics import mean_squared_error\n",
        "#データセットをロード\n",
        "dataset = load_boston()\n",
        "X = dataset['data']\n",
        "Y = dataset['target']\n",
        "#テストとトレーニングのデータセットに分ける\n",
        "#モデルの評価をしっかりやりたい時は、validationのデータセットを作るのが良い。\n",
        "train_X, test_X, train_Y, test_Y = train_test_split(X,Y, test_size = 0.3, random_state = 42, shuffle =True)\n",
        "#2個のhidden layerを追加 activation function は relu.\n",
        "mlp_reg = MLPRegressor((10,10),activation ='relu',learning_rate='constant',learning_rate_init=0.001,max_iter=3000,random_state=42)\n",
        "mlp_reg.fit(train_X,train_Y)\n",
        "predictions = mlp_reg.predict(test_X)\n",
        "#RSMEを計算\n",
        "error = mean_squared_error(test_Y,predictions) ** (1/2)\n",
        "print(\"RSME: \" +str(error))"
      ]
    },
    {
      "cell_type": "markdown",
      "metadata": {
        "id": "VfeMh6E7vTy8"
      },
      "source": [
        "::アウトプットノードのActivation functionはIdentity。（Activation function は使われていないということ。）"
      ]
    },
    {
      "cell_type": "code",
      "execution_count": null,
      "metadata": {
        "scrolled": true,
        "id": "yLfuWPKWvTy8",
        "colab": {
          "base_uri": "https://localhost:8080/",
          "height": 35
        },
        "outputId": "2b40e630-21e9-48ac-c2a4-8e35ed4b65e4"
      },
      "outputs": [
        {
          "output_type": "execute_result",
          "data": {
            "text/plain": [
              "'identity'"
            ],
            "application/vnd.google.colaboratory.intrinsic+json": {
              "type": "string"
            }
          },
          "metadata": {},
          "execution_count": 39
        }
      ],
      "source": [
        "mlp_reg.out_activation_"
      ]
    },
    {
      "cell_type": "markdown",
      "metadata": {
        "id": "KFaUB_E7vTy8"
      },
      "source": [
        "## Regression using Keras  "
      ]
    },
    {
      "cell_type": "code",
      "execution_count": null,
      "metadata": {
        "scrolled": true,
        "id": "36cxPugbvTy8",
        "colab": {
          "base_uri": "https://localhost:8080/"
        },
        "outputId": "b18e5b9b-4c1e-4b04-a401-8442868ab490"
      },
      "outputs": [
        {
          "output_type": "stream",
          "name": "stdout",
          "text": [
            "Model: \"sequential_6\"\n",
            "_________________________________________________________________\n",
            " Layer (type)                Output Shape              Param #   \n",
            "=================================================================\n",
            " dense_7 (Dense)             (None, 30)                420       \n",
            "                                                                 \n",
            " dense_8 (Dense)             (None, 1)                 31        \n",
            "                                                                 \n",
            "=================================================================\n",
            "Total params: 451\n",
            "Trainable params: 451\n",
            "Non-trainable params: 0\n",
            "_________________________________________________________________\n",
            "Epoch 1/70\n",
            "10/10 [==============================] - 1s 31ms/step - loss: 210.9830 - root_mean_squared_error: 14.5253 - val_loss: 28.6695 - val_root_mean_squared_error: 5.3544\n",
            "Epoch 2/70\n",
            "10/10 [==============================] - 0s 9ms/step - loss: 30.6742 - root_mean_squared_error: 5.5384 - val_loss: 15.4097 - val_root_mean_squared_error: 3.9255\n",
            "Epoch 3/70\n",
            "10/10 [==============================] - 0s 9ms/step - loss: 20.5636 - root_mean_squared_error: 4.5347 - val_loss: 21.8092 - val_root_mean_squared_error: 4.6700\n",
            "Epoch 4/70\n",
            "10/10 [==============================] - 0s 8ms/step - loss: 18.8879 - root_mean_squared_error: 4.3460 - val_loss: 17.6212 - val_root_mean_squared_error: 4.1978\n",
            "Epoch 5/70\n",
            "10/10 [==============================] - 0s 10ms/step - loss: 15.9349 - root_mean_squared_error: 3.9919 - val_loss: 15.1007 - val_root_mean_squared_error: 3.8860\n",
            "Epoch 6/70\n",
            "10/10 [==============================] - 0s 8ms/step - loss: 13.2395 - root_mean_squared_error: 3.6386 - val_loss: 18.4045 - val_root_mean_squared_error: 4.2901\n",
            "Epoch 7/70\n",
            "10/10 [==============================] - 0s 8ms/step - loss: 12.5407 - root_mean_squared_error: 3.5413 - val_loss: 12.6434 - val_root_mean_squared_error: 3.5558\n",
            "Epoch 8/70\n",
            "10/10 [==============================] - 0s 9ms/step - loss: 11.3632 - root_mean_squared_error: 3.3709 - val_loss: 14.8100 - val_root_mean_squared_error: 3.8484\n",
            "Epoch 9/70\n",
            "10/10 [==============================] - 0s 11ms/step - loss: 10.9433 - root_mean_squared_error: 3.3081 - val_loss: 12.2135 - val_root_mean_squared_error: 3.4948\n",
            "Epoch 10/70\n",
            "10/10 [==============================] - 0s 8ms/step - loss: 11.9871 - root_mean_squared_error: 3.4622 - val_loss: 13.7698 - val_root_mean_squared_error: 3.7108\n",
            "Epoch 11/70\n",
            "10/10 [==============================] - 0s 11ms/step - loss: 10.9510 - root_mean_squared_error: 3.3092 - val_loss: 15.2119 - val_root_mean_squared_error: 3.9002\n",
            "Epoch 12/70\n",
            "10/10 [==============================] - 0s 10ms/step - loss: 10.2288 - root_mean_squared_error: 3.1983 - val_loss: 17.9415 - val_root_mean_squared_error: 4.2357\n",
            "Epoch 13/70\n",
            "10/10 [==============================] - 0s 9ms/step - loss: 10.5500 - root_mean_squared_error: 3.2481 - val_loss: 12.2148 - val_root_mean_squared_error: 3.4950\n",
            "Epoch 14/70\n",
            "10/10 [==============================] - 0s 11ms/step - loss: 9.7242 - root_mean_squared_error: 3.1184 - val_loss: 18.9534 - val_root_mean_squared_error: 4.3536\n",
            "Epoch 15/70\n",
            "10/10 [==============================] - 0s 14ms/step - loss: 9.2089 - root_mean_squared_error: 3.0346 - val_loss: 11.9890 - val_root_mean_squared_error: 3.4625\n",
            "Epoch 16/70\n",
            "10/10 [==============================] - 0s 12ms/step - loss: 9.6106 - root_mean_squared_error: 3.1001 - val_loss: 17.3573 - val_root_mean_squared_error: 4.1662\n",
            "Epoch 17/70\n",
            "10/10 [==============================] - 0s 12ms/step - loss: 9.6603 - root_mean_squared_error: 3.1081 - val_loss: 14.9642 - val_root_mean_squared_error: 3.8684\n",
            "Epoch 18/70\n",
            "10/10 [==============================] - 0s 12ms/step - loss: 9.3305 - root_mean_squared_error: 3.0546 - val_loss: 11.7940 - val_root_mean_squared_error: 3.4342\n",
            "Epoch 19/70\n",
            "10/10 [==============================] - 0s 13ms/step - loss: 10.0646 - root_mean_squared_error: 3.1725 - val_loss: 16.2113 - val_root_mean_squared_error: 4.0263\n",
            "Epoch 20/70\n",
            "10/10 [==============================] - 0s 12ms/step - loss: 10.0924 - root_mean_squared_error: 3.1769 - val_loss: 8.9746 - val_root_mean_squared_error: 2.9958\n",
            "Epoch 21/70\n",
            "10/10 [==============================] - 0s 9ms/step - loss: 9.9199 - root_mean_squared_error: 3.1496 - val_loss: 15.5359 - val_root_mean_squared_error: 3.9416\n",
            "Epoch 22/70\n",
            "10/10 [==============================] - 0s 11ms/step - loss: 10.1000 - root_mean_squared_error: 3.1781 - val_loss: 11.6725 - val_root_mean_squared_error: 3.4165\n",
            "Epoch 23/70\n",
            "10/10 [==============================] - 0s 17ms/step - loss: 9.2540 - root_mean_squared_error: 3.0420 - val_loss: 17.5403 - val_root_mean_squared_error: 4.1881\n",
            "Epoch 24/70\n",
            "10/10 [==============================] - 0s 11ms/step - loss: 11.5579 - root_mean_squared_error: 3.3997 - val_loss: 32.6533 - val_root_mean_squared_error: 5.7143\n",
            "Epoch 25/70\n",
            "10/10 [==============================] - 0s 12ms/step - loss: 8.9077 - root_mean_squared_error: 2.9846 - val_loss: 20.6685 - val_root_mean_squared_error: 4.5463\n",
            "Epoch 26/70\n",
            "10/10 [==============================] - 0s 12ms/step - loss: 9.7223 - root_mean_squared_error: 3.1181 - val_loss: 24.6578 - val_root_mean_squared_error: 4.9657\n",
            "Epoch 27/70\n",
            "10/10 [==============================] - 0s 12ms/step - loss: 10.7223 - root_mean_squared_error: 3.2745 - val_loss: 16.4619 - val_root_mean_squared_error: 4.0573\n",
            "Epoch 28/70\n",
            "10/10 [==============================] - 0s 11ms/step - loss: 9.8270 - root_mean_squared_error: 3.1348 - val_loss: 13.4465 - val_root_mean_squared_error: 3.6670\n",
            "Epoch 29/70\n",
            "10/10 [==============================] - 0s 13ms/step - loss: 8.1771 - root_mean_squared_error: 2.8596 - val_loss: 14.2561 - val_root_mean_squared_error: 3.7757\n",
            "Epoch 30/70\n",
            "10/10 [==============================] - 0s 13ms/step - loss: 8.8055 - root_mean_squared_error: 2.9674 - val_loss: 15.9126 - val_root_mean_squared_error: 3.9891\n",
            "Epoch 31/70\n",
            "10/10 [==============================] - 0s 12ms/step - loss: 9.1296 - root_mean_squared_error: 3.0215 - val_loss: 23.2763 - val_root_mean_squared_error: 4.8245\n",
            "Epoch 32/70\n",
            "10/10 [==============================] - 0s 12ms/step - loss: 9.8788 - root_mean_squared_error: 3.1430 - val_loss: 11.8138 - val_root_mean_squared_error: 3.4371\n",
            "Epoch 33/70\n",
            "10/10 [==============================] - 0s 8ms/step - loss: 8.2899 - root_mean_squared_error: 2.8792 - val_loss: 11.6906 - val_root_mean_squared_error: 3.4192\n",
            "Epoch 34/70\n",
            "10/10 [==============================] - 0s 8ms/step - loss: 8.4855 - root_mean_squared_error: 2.9130 - val_loss: 35.0041 - val_root_mean_squared_error: 5.9164\n",
            "Epoch 35/70\n",
            "10/10 [==============================] - 0s 8ms/step - loss: 9.2568 - root_mean_squared_error: 3.0425 - val_loss: 10.8111 - val_root_mean_squared_error: 3.2880\n",
            "Epoch 36/70\n",
            "10/10 [==============================] - 0s 8ms/step - loss: 8.0791 - root_mean_squared_error: 2.8424 - val_loss: 12.2726 - val_root_mean_squared_error: 3.5032\n",
            "Epoch 37/70\n",
            "10/10 [==============================] - 0s 8ms/step - loss: 8.3262 - root_mean_squared_error: 2.8855 - val_loss: 12.8427 - val_root_mean_squared_error: 3.5837\n",
            "Epoch 38/70\n",
            "10/10 [==============================] - 0s 9ms/step - loss: 8.5425 - root_mean_squared_error: 2.9228 - val_loss: 12.3025 - val_root_mean_squared_error: 3.5075\n",
            "Epoch 39/70\n",
            "10/10 [==============================] - 0s 7ms/step - loss: 8.7189 - root_mean_squared_error: 2.9528 - val_loss: 16.0356 - val_root_mean_squared_error: 4.0044\n",
            "Epoch 40/70\n",
            "10/10 [==============================] - 0s 9ms/step - loss: 8.2331 - root_mean_squared_error: 2.8693 - val_loss: 14.0104 - val_root_mean_squared_error: 3.7430\n",
            "Epoch 41/70\n",
            "10/10 [==============================] - 0s 8ms/step - loss: 9.6045 - root_mean_squared_error: 3.0991 - val_loss: 10.1762 - val_root_mean_squared_error: 3.1900\n",
            "Epoch 42/70\n",
            "10/10 [==============================] - 0s 8ms/step - loss: 8.7618 - root_mean_squared_error: 2.9600 - val_loss: 13.3366 - val_root_mean_squared_error: 3.6519\n",
            "Epoch 43/70\n",
            "10/10 [==============================] - 0s 8ms/step - loss: 8.2143 - root_mean_squared_error: 2.8661 - val_loss: 17.5176 - val_root_mean_squared_error: 4.1854\n",
            "Epoch 44/70\n",
            "10/10 [==============================] - 0s 9ms/step - loss: 8.4704 - root_mean_squared_error: 2.9104 - val_loss: 11.7904 - val_root_mean_squared_error: 3.4337\n",
            "Epoch 45/70\n",
            "10/10 [==============================] - 0s 8ms/step - loss: 7.6543 - root_mean_squared_error: 2.7666 - val_loss: 13.7501 - val_root_mean_squared_error: 3.7081\n",
            "Epoch 46/70\n",
            "10/10 [==============================] - 0s 8ms/step - loss: 7.6168 - root_mean_squared_error: 2.7598 - val_loss: 15.4538 - val_root_mean_squared_error: 3.9311\n",
            "Epoch 47/70\n",
            "10/10 [==============================] - 0s 9ms/step - loss: 8.2259 - root_mean_squared_error: 2.8681 - val_loss: 12.7104 - val_root_mean_squared_error: 3.5652\n",
            "Epoch 48/70\n",
            "10/10 [==============================] - 0s 8ms/step - loss: 8.2376 - root_mean_squared_error: 2.8701 - val_loss: 19.5480 - val_root_mean_squared_error: 4.4213\n",
            "Epoch 49/70\n",
            "10/10 [==============================] - 0s 8ms/step - loss: 7.9649 - root_mean_squared_error: 2.8222 - val_loss: 14.8708 - val_root_mean_squared_error: 3.8563\n",
            "Epoch 50/70\n",
            "10/10 [==============================] - 0s 8ms/step - loss: 8.0652 - root_mean_squared_error: 2.8399 - val_loss: 17.8688 - val_root_mean_squared_error: 4.2272\n",
            "Epoch 51/70\n",
            "10/10 [==============================] - 0s 8ms/step - loss: 8.7290 - root_mean_squared_error: 2.9545 - val_loss: 12.5288 - val_root_mean_squared_error: 3.5396\n",
            "Epoch 52/70\n",
            "10/10 [==============================] - 0s 8ms/step - loss: 8.5814 - root_mean_squared_error: 2.9294 - val_loss: 16.5166 - val_root_mean_squared_error: 4.0641\n",
            "Epoch 53/70\n",
            "10/10 [==============================] - 0s 8ms/step - loss: 8.5563 - root_mean_squared_error: 2.9251 - val_loss: 22.1276 - val_root_mean_squared_error: 4.7040\n",
            "Epoch 54/70\n",
            "10/10 [==============================] - 0s 8ms/step - loss: 7.9780 - root_mean_squared_error: 2.8245 - val_loss: 12.5604 - val_root_mean_squared_error: 3.5441\n",
            "Epoch 55/70\n",
            "10/10 [==============================] - 0s 9ms/step - loss: 8.1940 - root_mean_squared_error: 2.8625 - val_loss: 8.8137 - val_root_mean_squared_error: 2.9688\n",
            "Epoch 56/70\n",
            "10/10 [==============================] - 0s 10ms/step - loss: 8.4256 - root_mean_squared_error: 2.9027 - val_loss: 20.5837 - val_root_mean_squared_error: 4.5369\n",
            "Epoch 57/70\n",
            "10/10 [==============================] - 0s 8ms/step - loss: 7.9257 - root_mean_squared_error: 2.8153 - val_loss: 21.5833 - val_root_mean_squared_error: 4.6458\n",
            "Epoch 58/70\n",
            "10/10 [==============================] - 0s 8ms/step - loss: 8.0375 - root_mean_squared_error: 2.8351 - val_loss: 27.9045 - val_root_mean_squared_error: 5.2825\n",
            "Epoch 59/70\n",
            "10/10 [==============================] - 0s 8ms/step - loss: 8.3169 - root_mean_squared_error: 2.8839 - val_loss: 14.5109 - val_root_mean_squared_error: 3.8093\n",
            "Epoch 60/70\n",
            "10/10 [==============================] - 0s 8ms/step - loss: 7.3392 - root_mean_squared_error: 2.7091 - val_loss: 13.1853 - val_root_mean_squared_error: 3.6312\n",
            "Epoch 61/70\n",
            "10/10 [==============================] - 0s 8ms/step - loss: 7.7999 - root_mean_squared_error: 2.7928 - val_loss: 12.4583 - val_root_mean_squared_error: 3.5296\n",
            "Epoch 62/70\n",
            "10/10 [==============================] - 0s 8ms/step - loss: 7.6333 - root_mean_squared_error: 2.7628 - val_loss: 10.6291 - val_root_mean_squared_error: 3.2602\n",
            "Epoch 63/70\n",
            "10/10 [==============================] - 0s 6ms/step - loss: 7.9199 - root_mean_squared_error: 2.8142 - val_loss: 9.7582 - val_root_mean_squared_error: 3.1238\n",
            "Epoch 64/70\n",
            "10/10 [==============================] - 0s 6ms/step - loss: 7.3880 - root_mean_squared_error: 2.7181 - val_loss: 11.1227 - val_root_mean_squared_error: 3.3351\n",
            "Epoch 65/70\n",
            "10/10 [==============================] - 0s 5ms/step - loss: 7.6411 - root_mean_squared_error: 2.7642 - val_loss: 12.7184 - val_root_mean_squared_error: 3.5663\n",
            "Epoch 66/70\n",
            "10/10 [==============================] - 0s 6ms/step - loss: 8.5521 - root_mean_squared_error: 2.9244 - val_loss: 27.1197 - val_root_mean_squared_error: 5.2077\n",
            "Epoch 67/70\n",
            "10/10 [==============================] - 0s 4ms/step - loss: 8.9369 - root_mean_squared_error: 2.9895 - val_loss: 28.1340 - val_root_mean_squared_error: 5.3041\n",
            "Epoch 68/70\n",
            "10/10 [==============================] - 0s 5ms/step - loss: 9.9193 - root_mean_squared_error: 3.1495 - val_loss: 13.9001 - val_root_mean_squared_error: 3.7283\n",
            "Epoch 69/70\n",
            "10/10 [==============================] - 0s 6ms/step - loss: 7.4727 - root_mean_squared_error: 2.7336 - val_loss: 10.5553 - val_root_mean_squared_error: 3.2489\n",
            "Epoch 70/70\n",
            "10/10 [==============================] - 0s 6ms/step - loss: 7.1997 - root_mean_squared_error: 2.6832 - val_loss: 10.1677 - val_root_mean_squared_error: 3.1887\n"
          ]
        }
      ],
      "source": [
        "import tensorflow as tf\n",
        "from tensorflow import keras\n",
        "from sklearn.preprocessing import StandardScaler\n",
        "#データセットをダウンロード\n",
        "house_price = keras.datasets.boston_housing\n",
        "#データをtraining, validation, test に分ける\n",
        "(train_X, train_Y), (test_X, test_Y) = house_price.load_data()\n",
        "train_X, valid_X, train_Y, valid_Y = train_test_split(train_X, train_Y)\n",
        "#変数をスケーリング 最適化を早くするため\n",
        "scaler = StandardScaler()\n",
        "train_X = scaler.fit_transform(train_X)\n",
        "valid_X = scaler.fit_transform(valid_X)\n",
        "test_X = scaler.fit_transform(test_X)\n",
        "#KerasのSequential model を使う\n",
        "keras_model = keras.models.Sequential()\n",
        "#インプットレイヤーを追加\n",
        "keras_model.add(tf.keras.Input(shape=train_X.shape[1:],))\n",
        "#Hidden layer を追加\n",
        "keras_model.add(tf.keras.layers.Dense(30,activation=\"relu\"))\n",
        "#Output layer を追加\n",
        "keras_model.add(tf.keras.layers.Dense(1))\n",
        "keras_model.summary()\n",
        "#モデルをコンパイル\n",
        "keras_model.compile(loss=\"mean_squared_error\", optimizer=\"sgd\",metrics=[tf.keras.metrics.RootMeanSquaredError(\n",
        "name=\"root_mean_squared_error\", dtype=None)])\n",
        "#モデルをトレーニング\n",
        "#validationのデータセットがあれば、それを渡すことで、validationに関してのlossやRMSEの計算なども簡単にできる。\n",
        "history = keras_model.fit(train_X, train_Y, epochs=70, validation_data=(valid_X, valid_Y))"
      ]
    },
    {
      "cell_type": "markdown",
      "source": [
        "損失関数とRMSEの値をエポックごとにプロットする。ValidationとTraningのデータセットのそれぞれに、その二つの値が計算されている。　エポックはトレーニングのデータセットを何回学習したかを表します。ニューラルネットでは一つのトレーニングのデータセットを何回も学習させます。"
      ],
      "metadata": {
        "id": "nudpvV9FNTI8"
      }
    },
    {
      "cell_type": "code",
      "execution_count": null,
      "metadata": {
        "id": "QeqAypyevTy9",
        "colab": {
          "base_uri": "https://localhost:8080/",
          "height": 501
        },
        "outputId": "ecfbaf00-67e3-449a-bfe6-7513d5126cf3"
      },
      "outputs": [
        {
          "output_type": "display_data",
          "data": {
            "text/plain": [
              "<Figure size 720x576 with 1 Axes>"
            ],
            "image/png": "[encoded data removed]"
          },
          "metadata": {
            "needs_background": "light"
          }
        }
      ],
      "source": [
        "import pandas as pd \n",
        "import matplotlib.pyplot as plt\n",
        "pd.DataFrame(history.history).plot(figsize=(10,8))\n",
        "plt.grid(True)\n",
        "plt.gca().set_ylim(0,60)\n",
        "plt.xlabel(\"# of Epocs\")\n",
        "plt.show()\n",
        "\n",
        "\n",
        "\n"
      ]
    },
    {
      "cell_type": "markdown",
      "source": [
        "Test Datasetにモデルを適応して、RMSEを計算"
      ],
      "metadata": {
        "id": "3xW99aZMN49B"
      }
    },
    {
      "cell_type": "code",
      "execution_count": null,
      "metadata": {
        "id": "AA35BTjJvTy9",
        "colab": {
          "base_uri": "https://localhost:8080/"
        },
        "outputId": "35674599-49a0-4f70-9f7a-3975264b4709"
      },
      "outputs": [
        {
          "output_type": "execute_result",
          "data": {
            "text/plain": [
              "4.618173158296572"
            ]
          },
          "metadata": {},
          "execution_count": 42
        }
      ],
      "source": [
        "mean_squared_error(test_Y,keras_model.predict(test_X)) ** (1/2)"
      ]
    },
    {
      "cell_type": "markdown",
      "metadata": {
        "id": "7hXlz7iBvTy9"
      },
      "source": [
        "## Classificaiton using Keras "
      ]
    },
    {
      "cell_type": "markdown",
      "source": [
        "Dataset\n",
        "\n",
        "手書きの数字を表したイメージが含まれている。イメージは28*28で全７８４ピクセル。\n",
        "\n",
        "Goal \n",
        "\n",
        "イメージが０から９のどの数字なのかを判別する。"
      ],
      "metadata": {
        "id": "7H6eGUDslmQR"
      }
    },
    {
      "cell_type": "code",
      "execution_count": null,
      "metadata": {
        "id": "f-R9_s0IvTy9"
      },
      "outputs": [],
      "source": [
        "(train_X, train_Y), (test_X, test_Y) = tf.keras.datasets.mnist.load_data(path=\"mnist.npz\")"
      ]
    },
    {
      "cell_type": "code",
      "execution_count": null,
      "metadata": {
        "scrolled": true,
        "id": "caiVoYtgvTy9",
        "colab": {
          "base_uri": "https://localhost:8080/",
          "height": 265
        },
        "outputId": "aa8ab4c5-a3c6-479b-97e3-54f86c6ed970"
      },
      "outputs": [
        {
          "output_type": "display_data",
          "data": {
            "text/plain": [
              "<Figure size 432x288 with 1 Axes>"
            ],
            "image/png": "[encoded data removed]"
          },
          "metadata": {
            "needs_background": "light"
          }
        }
      ],
      "source": [
        "#イメージを実際に視覚化してみる\n",
        "from matplotlib import pyplot as plt\n",
        "plt.imshow(train_X[0],cmap='Greys')\n",
        "plt.show()"
      ]
    },
    {
      "cell_type": "code",
      "execution_count": null,
      "metadata": {
        "scrolled": true,
        "id": "enlaIOA1vTy9",
        "colab": {
          "base_uri": "https://localhost:8080/"
        },
        "outputId": "cca8e7ec-5b24-438a-cbfd-82a2070ee45a"
      },
      "outputs": [
        {
          "output_type": "stream",
          "name": "stdout",
          "text": [
            "Model: \"sequential_7\"\n",
            "_________________________________________________________________\n",
            " Layer (type)                Output Shape              Param #   \n",
            "=================================================================\n",
            " flatten_3 (Flatten)         (None, 784)               0         \n",
            "                                                                 \n",
            " dense_9 (Dense)             (None, 10)                7850      \n",
            "                                                                 \n",
            "=================================================================\n",
            "Total params: 7,850\n",
            "Trainable params: 7,850\n",
            "Non-trainable params: 0\n",
            "_________________________________________________________________\n",
            "Epoch 1/20\n",
            "1407/1407 [==============================] - 5s 3ms/step - loss: 0.8517 - accuracy: 0.8025 - val_loss: 0.5440 - val_accuracy: 0.8692\n",
            "Epoch 2/20\n",
            "1407/1407 [==============================] - 3s 2ms/step - loss: 0.4940 - accuracy: 0.8732 - val_loss: 0.4469 - val_accuracy: 0.8866\n",
            "Epoch 3/20\n",
            "1407/1407 [==============================] - 3s 2ms/step - loss: 0.4316 - accuracy: 0.8846 - val_loss: 0.4059 - val_accuracy: 0.8939\n",
            "Epoch 4/20\n",
            "1407/1407 [==============================] - 3s 2ms/step - loss: 0.4007 - accuracy: 0.8911 - val_loss: 0.3823 - val_accuracy: 0.8984\n",
            "Epoch 5/20\n",
            "1407/1407 [==============================] - 3s 2ms/step - loss: 0.3811 - accuracy: 0.8946 - val_loss: 0.3664 - val_accuracy: 0.9009\n",
            "Epoch 6/20\n",
            "1407/1407 [==============================] - 3s 2ms/step - loss: 0.3674 - accuracy: 0.8984 - val_loss: 0.3555 - val_accuracy: 0.9035\n",
            "Epoch 7/20\n",
            "1407/1407 [==============================] - 3s 2ms/step - loss: 0.3571 - accuracy: 0.9006 - val_loss: 0.3464 - val_accuracy: 0.9060\n",
            "Epoch 8/20\n",
            "1407/1407 [==============================] - 3s 2ms/step - loss: 0.3487 - accuracy: 0.9025 - val_loss: 0.3388 - val_accuracy: 0.9090\n",
            "Epoch 9/20\n",
            "1407/1407 [==============================] - 3s 2ms/step - loss: 0.3421 - accuracy: 0.9045 - val_loss: 0.3331 - val_accuracy: 0.9104\n",
            "Epoch 10/20\n",
            "1407/1407 [==============================] - 3s 2ms/step - loss: 0.3364 - accuracy: 0.9061 - val_loss: 0.3279 - val_accuracy: 0.9109\n",
            "Epoch 11/20\n",
            "1407/1407 [==============================] - 3s 2ms/step - loss: 0.3314 - accuracy: 0.9077 - val_loss: 0.3238 - val_accuracy: 0.9111\n",
            "Epoch 12/20\n",
            "1407/1407 [==============================] - 3s 2ms/step - loss: 0.3271 - accuracy: 0.9090 - val_loss: 0.3205 - val_accuracy: 0.9117\n",
            "Epoch 13/20\n",
            "1407/1407 [==============================] - 3s 2ms/step - loss: 0.3234 - accuracy: 0.9099 - val_loss: 0.3172 - val_accuracy: 0.9135\n",
            "Epoch 14/20\n",
            "1407/1407 [==============================] - 3s 2ms/step - loss: 0.3200 - accuracy: 0.9104 - val_loss: 0.3145 - val_accuracy: 0.9125\n",
            "Epoch 15/20\n",
            "1407/1407 [==============================] - 3s 2ms/step - loss: 0.3170 - accuracy: 0.9115 - val_loss: 0.3123 - val_accuracy: 0.9147\n",
            "Epoch 16/20\n",
            "1407/1407 [==============================] - 3s 2ms/step - loss: 0.3143 - accuracy: 0.9118 - val_loss: 0.3097 - val_accuracy: 0.9143\n",
            "Epoch 17/20\n",
            "1407/1407 [==============================] - 3s 2ms/step - loss: 0.3118 - accuracy: 0.9126 - val_loss: 0.3072 - val_accuracy: 0.9163\n",
            "Epoch 18/20\n",
            "1407/1407 [==============================] - 3s 2ms/step - loss: 0.3096 - accuracy: 0.9136 - val_loss: 0.3054 - val_accuracy: 0.9158\n",
            "Epoch 19/20\n",
            "1407/1407 [==============================] - 3s 2ms/step - loss: 0.3075 - accuracy: 0.9140 - val_loss: 0.3039 - val_accuracy: 0.9162\n",
            "Epoch 20/20\n",
            "1407/1407 [==============================] - 3s 2ms/step - loss: 0.3057 - accuracy: 0.9148 - val_loss: 0.3021 - val_accuracy: 0.9168\n"
          ]
        }
      ],
      "source": [
        "import tensorflow as tf\n",
        "from tensorflow import keras\n",
        "from sklearn.preprocessing import StandardScaler\n",
        "#training と validationに分ける\n",
        "train_X, valid_X, train_Y, valid_Y = train_test_split(train_X, train_Y)\n",
        "#最適化のアルゴリズムを早くするために、変数をスケーリングします。\n",
        "train_X = train_X / 255.0\n",
        "valid_X = valid_X / 255.0\n",
        "test_X = test_X / 255.0\n",
        "\n",
        "keras_clf = keras.models.Sequential()\n",
        "#input layerを作る。もともとのinputのデータが2-Dなので、1Dにします。\n",
        "keras_clf.add(keras.layers.Flatten(input_shape=[28,28]))\n",
        "#output layer を作る.10個のクラスがあるので、10個のニューロンが必要。\n",
        "\n",
        "keras_clf.add(keras.layers.Dense(10,activation = 'softmax'))\n",
        "keras_clf.summary()\n",
        "keras_clf.compile(loss=\"sparse_categorical_crossentropy\", optimizer=\"sgd\",metrics=[\"accuracy\"])\n",
        "history = keras_clf.fit(train_X, train_Y, epochs=20, validation_data=(valid_X, valid_Y))"
      ]
    },
    {
      "cell_type": "markdown",
      "source": [
        " 損失関数とaccuracyの値をエポックごとにプロットする。ValidationとTraningのデータセットのそれぞれに、その二つの値が計算されている。"
      ],
      "metadata": {
        "id": "OFAHqKmTnFlp"
      }
    },
    {
      "cell_type": "code",
      "execution_count": null,
      "metadata": {
        "id": "bPTb-xO0vTy-",
        "colab": {
          "base_uri": "https://localhost:8080/",
          "height": 334
        },
        "outputId": "c7b85467-f3f3-499e-e421-cf889a0b0ee1"
      },
      "outputs": [
        {
          "output_type": "display_data",
          "data": {
            "text/plain": [
              "<Figure size 576x360 with 1 Axes>"
            ],
            "image/png": "[encoded data removed]"
          },
          "metadata": {
            "needs_background": "light"
          }
        }
      ],
      "source": [
        "pd.DataFrame(history.history).plot(figsize=(8,5))\n",
        "plt.grid(True)\n",
        "plt.gca()\n",
        "plt.xlabel(\"# of Epocs\")\n",
        "plt.show()"
      ]
    },
    {
      "cell_type": "markdown",
      "metadata": {
        "id": "7AMbWYBavTy-"
      },
      "source": [
        "### Test データを使って予測してみる"
      ]
    },
    {
      "cell_type": "code",
      "execution_count": null,
      "metadata": {
        "id": "sRT4lmozvTy-",
        "colab": {
          "base_uri": "https://localhost:8080/"
        },
        "outputId": "4bc8898f-a055-4efc-a385-1f63db57cb52"
      },
      "outputs": [
        {
          "output_type": "stream",
          "name": "stdout",
          "text": [
            "Accuracy: 0.9182\n"
          ]
        }
      ],
      "source": [
        "#accuracyを計算\n",
        "from sklearn.metrics import accuracy_score\n",
        "print(\"Accuracy: \" +str(accuracy_score(test_Y,keras_clf.predict(test_X).argmax(axis=-1))))"
      ]
    },
    {
      "cell_type": "markdown",
      "source": [
        "ニューラルネットの学習の視覚化"
      ],
      "metadata": {
        "id": "tQD_UdQ02IB-"
      }
    },
    {
      "cell_type": "markdown",
      "source": [
        "この数字判別の問題だと、アウトプットノードが１０個あります。それぞれのノードが７８４個のインプットノードとエッジで結ばれていて、そのエッジに重みがつけられています。つまり、一つのクラスに７８４個の重みがあります。\n",
        "\n",
        "それでは、ここでいう重みの最適化は何を指すのでしょうか？簡単にいうと、あるラベルがついたインプットが来た時、そのラベルを判別するアウトプットノードが他のノードに比べて大きな値を出力できるような重みを計算するのが最適化にあたります。\n",
        "\n",
        "この数字判別の例だと、仮に１を表すインプットが与えられた時、１を判別するアウトプットノードが一番大きい値を出力するような重みを計算しなければなりません。もう少し詳しくいうと、１という数字のイメージに相関があるピクセルに高い重みを与えればいいのです。そうすれば、インプットと重みのドット積も大きな値を出します。\n",
        "\n",
        "従って、重みを視覚化すると数字がぼんやりと見えます。下の図は数字の３を判別するアウトプットノードと全てのインプットのエッジの間の重みを視覚化したものです。 赤いとこほど、大きな重みを持っています。\n",
        "\n",
        "ニューラルネットワークでの学習は重みを最適化することです。あるインプットに紐づいている重みが少ないということは、それほど重要ではないということです。下の図は、そういった意味ではニューラルネットワークが重要だと学習したピクセルの位置を示していると言えます。\n",
        "\n"
      ],
      "metadata": {
        "id": "Q_XyJliK3ss1"
      }
    },
    {
      "cell_type": "code",
      "execution_count": null,
      "metadata": {
        "id": "RvhoDv9dvTy-",
        "colab": {
          "base_uri": "https://localhost:8080/",
          "height": 282
        },
        "outputId": "152b28aa-0845-4aae-99c9-840091d0e19c"
      },
      "outputs": [
        {
          "output_type": "execute_result",
          "data": {
            "text/plain": [
              "<matplotlib.image.AxesImage at 0x7ff3f9ed7ed0>"
            ]
          },
          "metadata": {},
          "execution_count": 49
        },
        {
          "output_type": "display_data",
          "data": {
            "text/plain": [
              "<Figure size 432x288 with 1 Axes>"
            ],
            "image/png": "[encoded data removed]"
          },
          "metadata": {
            "needs_background": "light"
          }
        }
      ],
      "source": [
        "#３のアウトプットノードに関連する重みを全部について、２８＊２８の2-Dに変換\n",
        "plt.imshow(np.reshape(keras_clf.get_weights()[0][:,3],(28,28)),cmap=\"seismic\")"
      ]
    }
  ],
  "metadata": {
    "kernelspec": {
      "display_name": "Python 3",
      "language": "python",
      "name": "python3"
    },
    "language_info": {
      "codemirror_mode": {
        "name": "ipython",
        "version": 3
      },
      "file_extension": ".py",
      "mimetype": "text/x-python",
      "name": "python",
      "nbconvert_exporter": "python",
      "pygments_lexer": "ipython3",
      "version": "3.8.5"
    },
    "colab": {
      "name": "TU22005_加藤里奈_Deep_learning_material_tempate.ipynb のコピー",
      "provenance": [],
      "collapsed_sections": [],
      "include_colab_link": true
    }
  },
  "nbformat": 4,
  "nbformat_minor": 0
}