{
  "nbformat": 4,
  "nbformat_minor": 0,
  "metadata": {
    "colab": {
      "name": "Chap04_Ex-13, Chap04_Cm-01.ipynb",
      "provenance": [],
      "collapsed_sections": [],
      "authorship_tag": "ABX9TyO1Gahh6rHVq3PT7UV/6Zzh",
      "include_colab_link": true
    },
    "kernelspec": {
      "name": "python3",
      "display_name": "Python 3"
    },
    "language_info": {
      "name": "python"
    }
  },
  "cells": [
    {
      "cell_type": "markdown",
      "metadata": {
        "id": "view-in-github",
        "colab_type": "text"
      },
      "source": [
        "<a href=\"https://colab.research.google.com/github/TU22005/EU_M_Math/blob/main/Chap04_Ex_13%2C_Chap04_Cm_01.ipynb\" target=\"_parent\"><img src=\"https://colab.research.google.com/assets/colab-badge.svg\" alt=\"Open In Colab\"/></a>"
      ]
    },
    {
      "cell_type": "code",
      "source": [
        "import numpy as np\n",
        "import scipy as sp\n",
        "import pandas as pd\n",
        "from pandas import Series, DataFrame\n",
        "import matplotlib.pyplot as plt\n",
        "import matplotlib as mpl\n",
        "import seaborn as sns\n",
        "%matplotlib inline\n",
        "%precision 3\n",
        "\n"
      ],
      "metadata": {
        "colab": {
          "base_uri": "https://localhost:8080/",
          "height": 36
        },
        "id": "9fJRO5C7lSuc",
        "outputId": "23b8f4fb-e55c-4b46-eb54-f07255d81e21"
      },
      "execution_count": 11,
      "outputs": [
        {
          "output_type": "execute_result",
          "data": {
            "text/plain": [
              "'%.3f'"
            ],
            "application/vnd.google.colaboratory.intrinsic+json": {
              "type": "string"
            }
          },
          "metadata": {},
          "execution_count": 11
        }
      ]
    },
    {
      "cell_type": "code",
      "source": [
        "import requests,csv,zipfile\n",
        "from io import StringIO\n",
        "import io"
      ],
      "metadata": {
        "id": "tN_e54eClmXa"
      },
      "execution_count": 12,
      "outputs": []
    },
    {
      "cell_type": "code",
      "source": [
        "url = 'https://archive.ics.uci.edu/ml/machine-learning-databases/00356/student.zip'\n",
        "r =requests.get(url,stream=True)\n",
        "z = zipfile.ZipFile(io.BytesIO(r.content))\n",
        "z.extractall()"
      ],
      "metadata": {
        "id": "LD79Ksg3nFLf"
      },
      "execution_count": 42,
      "outputs": []
    },
    {
      "cell_type": "code",
      "source": [
        "math = pd.read_csv('student-mat.csv')\n"
      ],
      "metadata": {
        "id": "vRTFLxXGnJPY"
      },
      "execution_count": 43,
      "outputs": []
    },
    {
      "cell_type": "code",
      "execution_count": 45,
      "metadata": {
        "colab": {
          "base_uri": "https://localhost:8080/"
        },
        "id": "7DOAvN2TaV77",
        "outputId": "02635cbe-f685-48b1-d48e-62d619f868ac"
      },
      "outputs": [
        {
          "output_type": "stream",
          "name": "stdout",
          "text": [
            "G2数学: 10.712041884816754\n",
            "G2ポルトガル: 12.238219895287958\n",
            "p値= 4.0622824801348043e-19\n"
          ]
        }
      ],
      "source": [
        "math = pd.read_csv('student-mat.csv',sep=';')\n",
        "por = pd.read_csv('student-por.csv',sep=';')\n",
        "merge = pd.merge(math,por,on=['school','sex','age','address','famsize','Pstatus','Medu','Fedu','Mjob','Fjob','reason','nursery','internet']\n",
        "                 ,how='inner'\n",
        "                 ,suffixes=('_math','_por' ))\n",
        "\n",
        "import scipy.stats as stats\n",
        "\n",
        "print('G2数学:',merge.G2_math.mean())\n",
        "print('G2ポルトガル:',merge.G2_por.mean())\n",
        "\n",
        "t, p = stats.ttest_rel(merge.G2_math, merge.G2_por)\n",
        "print('p値=',p)"
      ]
    },
    {
      "cell_type": "code",
      "source": [
        "print('G3数学:',merge.G3_math.mean())\n",
        "print('G3ポルトガル:',merge.G3_por.mean())\n",
        "\n",
        "t, p = stats.ttest_rel(merge.G3_math, merge.G3_por)\n",
        "print('p値=',p)"
      ],
      "metadata": {
        "colab": {
          "base_uri": "https://localhost:8080/"
        },
        "id": "6EI_smYBoiw0",
        "outputId": "18fe34d1-0e8c-4567-af8c-1442f6f9293e"
      },
      "execution_count": 48,
      "outputs": [
        {
          "output_type": "stream",
          "name": "stdout",
          "text": [
            "G3数学: 10.387434554973822\n",
            "G3ポルトガル: 12.515706806282722\n",
            "p値= 5.561492113688385e-21\n"
          ]
        }
      ]
    },
    {
      "cell_type": "code",
      "source": [
        "#総合問題４\n",
        "\n",
        "print('数学:',merge.absences_math.mean())\n",
        "print('ポルトガル:',merge.absences_por.mean())\n",
        "\n",
        "t, p = stats.ttest_rel(merge.absences_math, merge.absences_por)\n",
        "print('p値=',p)\n"
      ],
      "metadata": {
        "colab": {
          "base_uri": "https://localhost:8080/"
        },
        "id": "4NK8ix8VlQGN",
        "outputId": "a518d316-e44f-41c2-dcea-ab09e432a548"
      },
      "execution_count": 49,
      "outputs": [
        {
          "output_type": "stream",
          "name": "stdout",
          "text": [
            "数学: 5.319371727748691\n",
            "ポルトガル: 3.6727748691099475\n",
            "p値= 2.3441656888384195e-06\n"
          ]
        }
      ]
    },
    {
      "cell_type": "code",
      "source": [
        "print('勉強時間数学:',merge.studytime_math.mean())\n",
        "print('勉強時間ポルトガル:',merge.studytime_por.mean())\n",
        "\n",
        "t, p = stats.ttest_rel(merge.studytime_math, merge.studytime_por)\n",
        "print('p値=',p)"
      ],
      "metadata": {
        "colab": {
          "base_uri": "https://localhost:8080/"
        },
        "id": "Ft4MOpgBrCLc",
        "outputId": "62c2fe94-315d-4edb-c001-36bc7c325bf7"
      },
      "execution_count": 50,
      "outputs": [
        {
          "output_type": "stream",
          "name": "stdout",
          "text": [
            "勉強時間数学: 2.0340314136125652\n",
            "勉強時間ポルトガル: 2.0392670157068062\n",
            "p値= 0.5643842756976525\n"
          ]
        }
      ]
    }
  ]
}